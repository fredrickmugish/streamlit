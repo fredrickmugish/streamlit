{
 "cells": [
  {
   "cell_type": "code",
   "execution_count": 1,
   "id": "5d9f584b",
   "metadata": {},
   "outputs": [],
   "source": [
    "import pandas as pd; df = pd.read_csv(r\"E:\\fyp1\\folder\\folder\\data2.csv\")\n"
   ]
  },
  {
   "cell_type": "code",
   "execution_count": 2,
   "id": "2dc7c36d",
   "metadata": {},
   "outputs": [
    {
     "data": {
      "text/html": [
       "<div>\n",
       "<style scoped>\n",
       "    .dataframe tbody tr th:only-of-type {\n",
       "        vertical-align: middle;\n",
       "    }\n",
       "\n",
       "    .dataframe tbody tr th {\n",
       "        vertical-align: top;\n",
       "    }\n",
       "\n",
       "    .dataframe thead th {\n",
       "        text-align: right;\n",
       "    }\n",
       "</style>\n",
       "<table border=\"1\" class=\"dataframe\">\n",
       "  <thead>\n",
       "    <tr style=\"text-align: right;\">\n",
       "      <th></th>\n",
       "      <th>Unnamed: 0</th>\n",
       "      <th>AGE</th>\n",
       "      <th>GENDER</th>\n",
       "      <th>NATIONALITY</th>\n",
       "      <th>AFFECTED_ASPECT</th>\n",
       "      <th>STRATEGY</th>\n",
       "    </tr>\n",
       "  </thead>\n",
       "  <tbody>\n",
       "    <tr>\n",
       "      <th>0</th>\n",
       "      <td>0</td>\n",
       "      <td>29</td>\n",
       "      <td>m</td>\n",
       "      <td>kenyan</td>\n",
       "      <td>governance structure</td>\n",
       "      <td>transparent governance framework</td>\n",
       "    </tr>\n",
       "    <tr>\n",
       "      <th>1</th>\n",
       "      <td>1</td>\n",
       "      <td>42</td>\n",
       "      <td>f</td>\n",
       "      <td>tanzanian</td>\n",
       "      <td>budget allocation</td>\n",
       "      <td>budget optimization</td>\n",
       "    </tr>\n",
       "    <tr>\n",
       "      <th>2</th>\n",
       "      <td>2</td>\n",
       "      <td>35</td>\n",
       "      <td>f</td>\n",
       "      <td>tanzanian</td>\n",
       "      <td>social connection community engagement</td>\n",
       "      <td>community engagement initiative</td>\n",
       "    </tr>\n",
       "    <tr>\n",
       "      <th>3</th>\n",
       "      <td>3</td>\n",
       "      <td>33</td>\n",
       "      <td>f</td>\n",
       "      <td>tanzanian</td>\n",
       "      <td>administrative function</td>\n",
       "      <td>workflow analysis</td>\n",
       "    </tr>\n",
       "    <tr>\n",
       "      <th>4</th>\n",
       "      <td>4</td>\n",
       "      <td>35</td>\n",
       "      <td>m</td>\n",
       "      <td>tanzanian</td>\n",
       "      <td>student enrollment</td>\n",
       "      <td>enrollment initiative</td>\n",
       "    </tr>\n",
       "  </tbody>\n",
       "</table>\n",
       "</div>"
      ],
      "text/plain": [
       "   Unnamed: 0  AGE GENDER NATIONALITY                         AFFECTED_ASPECT  \\\n",
       "0           0   29      m      kenyan                    governance structure   \n",
       "1           1   42      f   tanzanian                       budget allocation   \n",
       "2           2   35      f   tanzanian  social connection community engagement   \n",
       "3           3   33      f   tanzanian                 administrative function   \n",
       "4           4   35      m   tanzanian                      student enrollment   \n",
       "\n",
       "                           STRATEGY  \n",
       "0  transparent governance framework  \n",
       "1               budget optimization  \n",
       "2   community engagement initiative  \n",
       "3                 workflow analysis  \n",
       "4             enrollment initiative  "
      ]
     },
     "execution_count": 2,
     "metadata": {},
     "output_type": "execute_result"
    }
   ],
   "source": [
    "df.head()"
   ]
  },
  {
   "cell_type": "code",
   "execution_count": 3,
   "id": "a0ac620c",
   "metadata": {},
   "outputs": [],
   "source": [
    "import pandas as pd\n",
    "df = pd.read_csv(r\"E:\\fyp1\\folder\\folder\\data2.csv\")\n",
    "\n",
    "# Drop the \"Unnamed: 0\" column\n",
    "df = df.drop(columns=['Unnamed: 0'])\n"
   ]
  },
  {
   "cell_type": "code",
   "execution_count": 4,
   "id": "db1b04aa",
   "metadata": {},
   "outputs": [
    {
     "name": "stdout",
     "output_type": "stream",
     "text": [
      "                                     precision    recall  f1-score   support\n",
      "\n",
      "         accommodation optimization       1.00      1.00      1.00        16\n",
      "                   blended learning       1.00      1.00      1.00         9\n",
      "                budget optimization       1.00      1.00      1.00        13\n",
      "                 cash flow analysis       1.00      1.00      1.00        11\n",
      "    community engagement initiative       1.00      1.00      1.00         5\n",
      "    compliance management framework       1.00      1.00      1.00         9\n",
      "comprehensive health safety measure       1.00      1.00      1.00         9\n",
      "  continuous improvement assessment       1.00      1.00      1.00         5\n",
      "                       digitization       1.00      1.00      1.00        10\n",
      "              enrollment initiative       1.00      1.00      1.00        13\n",
      "                 financial auditing       1.00      1.00      1.00         6\n",
      "                 financial planning       1.00      1.00      1.00         8\n",
      "   inclusive organizational culture       1.00      1.00      1.00         9\n",
      "      mental health support service       1.00      1.00      1.00         8\n",
      "     missiondriven policy alignment       1.00      1.00      1.00        10\n",
      "      professional development plan       1.00      1.00      1.00        13\n",
      "   program curriculum review update       1.00      1.00      1.00         8\n",
      "research experiment standardization       1.00      1.00      1.00        13\n",
      "                     safety measure       1.00      1.00      1.00         9\n",
      "                   security measure       1.00      1.00      1.00         7\n",
      "              strategic recruitment       1.00      1.00      1.00        12\n",
      "             technology integration       1.00      1.00      1.00         9\n",
      "   transparent governance framework       1.00      1.00      1.00         7\n",
      "                  workflow analysis       1.00      1.00      1.00        10\n",
      "                 workforce planning       1.00      1.00      1.00         8\n",
      "\n",
      "                           accuracy                           1.00       237\n",
      "                          macro avg       1.00      1.00      1.00       237\n",
      "                       weighted avg       1.00      1.00      1.00       237\n",
      "\n"
     ]
    }
   ],
   "source": [
    "import pandas as pd\n",
    "from sklearn.model_selection import train_test_split\n",
    "from sklearn.feature_extraction.text import CountVectorizer\n",
    "from sklearn.ensemble import RandomForestClassifier\n",
    "from sklearn.metrics import classification_report\n",
    "\n",
    "# Step 1: Preprocessing\n",
    "df = pd.read_csv(r\"E:\\fyp1\\folder\\folder\\data2.csv\")\n",
    "\n",
    "# Drop the \"Unnamed: 0\" column\n",
    "df = df.drop(columns=['Unnamed: 0'])\n",
    "\n",
    "# Combine 'AFFECTED_ASPECT' and 'NATIONALITY' columns into a single input text\n",
    "df['text'] = df['AFFECTED_ASPECT'] + ' ' + df['NATIONALITY']\n",
    "\n",
    "# Separate input text and the target variable (output)\n",
    "X = df['text']\n",
    "y = df['STRATEGY']\n",
    "\n",
    "# Step 2: Split the dataset into training and testing sets\n",
    "X_train, X_test, y_train, y_test = train_test_split(X, y, test_size=0.2, random_state=42)\n",
    "\n",
    "# Step 3: Vectorize text data using Bag-of-Words representation\n",
    "vectorizer = CountVectorizer()\n",
    "X_train_bow = vectorizer.fit_transform(X_train)\n",
    "X_test_bow = vectorizer.transform(X_test)\n",
    "\n",
    "# Step 4: Train a Random Forest classifier\n",
    "model = RandomForestClassifier(random_state=42)\n",
    "model.fit(X_train_bow, y_train)\n",
    "\n",
    "# Step 5: Model Evaluation\n",
    "y_pred = model.predict(X_test_bow)\n",
    "print(classification_report(y_test, y_pred))\n"
   ]
  },
  {
   "cell_type": "code",
   "execution_count": 5,
   "id": "c66c4ddd",
   "metadata": {},
   "outputs": [
    {
     "name": "stdout",
     "output_type": "stream",
     "text": [
      "                                     precision    recall  f1-score   support\n",
      "\n",
      "         accommodation optimization       1.00      1.00      1.00        16\n",
      "                   blended learning       1.00      1.00      1.00         9\n",
      "                budget optimization       1.00      1.00      1.00        13\n",
      "                 cash flow analysis       1.00      1.00      1.00        11\n",
      "    community engagement initiative       1.00      1.00      1.00         5\n",
      "    compliance management framework       1.00      1.00      1.00         9\n",
      "comprehensive health safety measure       1.00      1.00      1.00         9\n",
      "  continuous improvement assessment       1.00      1.00      1.00         5\n",
      "                       digitization       1.00      1.00      1.00        10\n",
      "              enrollment initiative       1.00      1.00      1.00        13\n",
      "                 financial auditing       1.00      1.00      1.00         6\n",
      "                 financial planning       1.00      1.00      1.00         8\n",
      "   inclusive organizational culture       1.00      1.00      1.00         9\n",
      "      mental health support service       1.00      1.00      1.00         8\n",
      "     missiondriven policy alignment       1.00      1.00      1.00        10\n",
      "      professional development plan       1.00      1.00      1.00        13\n",
      "   program curriculum review update       1.00      1.00      1.00         8\n",
      "research experiment standardization       1.00      1.00      1.00        13\n",
      "                     safety measure       1.00      1.00      1.00         9\n",
      "                   security measure       1.00      1.00      1.00         7\n",
      "              strategic recruitment       1.00      1.00      1.00        12\n",
      "             technology integration       1.00      1.00      1.00         9\n",
      "   transparent governance framework       1.00      1.00      1.00         7\n",
      "                  workflow analysis       1.00      1.00      1.00        10\n",
      "                 workforce planning       1.00      1.00      1.00         8\n",
      "\n",
      "                           accuracy                           1.00       237\n",
      "                          macro avg       1.00      1.00      1.00       237\n",
      "                       weighted avg       1.00      1.00      1.00       237\n",
      "\n"
     ]
    },
    {
     "data": {
      "text/plain": [
       "['random_forest_model.pkl']"
      ]
     },
     "execution_count": 5,
     "metadata": {},
     "output_type": "execute_result"
    }
   ],
   "source": [
    "import pandas as pd\n",
    "from sklearn.model_selection import train_test_split\n",
    "from sklearn.feature_extraction.text import TfidfVectorizer\n",
    "from sklearn.ensemble import RandomForestClassifier\n",
    "from sklearn.metrics import classification_report\n",
    "import joblib\n",
    "\n",
    "# Step 1: Preprocessing\n",
    "df = pd.read_csv(r\"E:\\fyp1\\folder\\folder\\data2.csv\")\n",
    "\n",
    "# Drop the \"Unnamed: 0\" column\n",
    "df = df.drop(columns=['Unnamed: 0'])\n",
    "\n",
    "# Combine 'AFFECTED_ASPECT' and 'NATIONALITY' columns into a single input text\n",
    "df['text'] = df['AFFECTED_ASPECT'] + ' ' + df['NATIONALITY']\n",
    "\n",
    "# Separate input text and the target variable (output)\n",
    "X = df['text']\n",
    "y = df['STRATEGY']\n",
    "\n",
    "# Step 2: Split the dataset into training and testing sets\n",
    "X_train, X_test, y_train, y_test = train_test_split(X, y, test_size=0.2, random_state=42)\n",
    "\n",
    "# Step 3: Vectorize text data using TF-IDF\n",
    "tfidf_vectorizer = TfidfVectorizer()\n",
    "X_train_tfidf = tfidf_vectorizer.fit_transform(X_train)\n",
    "X_test_tfidf = tfidf_vectorizer.transform(X_test)\n",
    "\n",
    "# Step 4: Train a Random Forest classifier\n",
    "model = RandomForestClassifier(random_state=42)\n",
    "model.fit(X_train_tfidf, y_train)\n",
    "\n",
    "# Step 5: Model Evaluation\n",
    "y_pred = model.predict(X_test_tfidf)\n",
    "print(classification_report(y_test, y_pred))\n",
    "\n",
    "# Step 6: Save TF-IDF vectorizer and model\n",
    "joblib.dump(tfidf_vectorizer, 'tfidf_vectorizer.pkl')\n",
    "joblib.dump(model, 'random_forest_model.pkl')\n"
   ]
  },
  {
   "cell_type": "code",
   "execution_count": 6,
   "id": "f789eb01",
   "metadata": {},
   "outputs": [
    {
     "name": "stdout",
     "output_type": "stream",
     "text": [
      "1.2.2\n"
     ]
    }
   ],
   "source": [
    "import sklearn\n",
    "print(sklearn.__version__)\n"
   ]
  },
  {
   "cell_type": "code",
   "execution_count": null,
   "id": "457c1ab2",
   "metadata": {},
   "outputs": [],
   "source": []
  }
 ],
 "metadata": {
  "kernelspec": {
   "display_name": "Python 3 (ipykernel)",
   "language": "python",
   "name": "python3"
  },
  "language_info": {
   "codemirror_mode": {
    "name": "ipython",
    "version": 3
   },
   "file_extension": ".py",
   "mimetype": "text/x-python",
   "name": "python",
   "nbconvert_exporter": "python",
   "pygments_lexer": "ipython3",
   "version": "3.11.5"
  }
 },
 "nbformat": 4,
 "nbformat_minor": 5
}
